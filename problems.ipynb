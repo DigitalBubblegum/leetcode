{
 "cells": [
  {
   "cell_type": "code",
   "execution_count": 17,
   "metadata": {},
   "outputs": [
    {
     "name": "stdout",
     "output_type": "stream",
     "text": [
      "None\n"
     ]
    }
   ],
   "source": [
    "#TWO SUM\n",
    "from typing import List\n",
    "\n",
    "class Solution:\n",
    "    def twoSum(self, nums: List[int], target: int) -> List[int]:\n",
    "        Dict = {}\n",
    "        for i in range(0,len(nums)):\n",
    "            numToFind = target - nums[i]\n",
    "            if(nums[i] not in Dict):\n",
    "                Dict[numToFind] = i\n",
    "            else:\n",
    "                return [Dict[nums[i]],i]\n",
    "        return None\n",
    "\n",
    "# Create an instance of the Solution class\n",
    "solution = Solution()\n",
    "\n",
    "# Call the twoSum method on the solution object\n",
    "result = solution.twoSum([], 7)\n",
    "print(result)\n"
   ]
  },
  {
   "cell_type": "code",
   "execution_count": 26,
   "metadata": {},
   "outputs": [
    {
     "name": "stdout",
     "output_type": "stream",
     "text": [
      "2\n"
     ]
    }
   ],
   "source": [
    "#Majority Element\n",
    "from typing import List\n",
    "class Solution:\n",
    "    def majorityElement(self, nums: List[int]) -> int:\n",
    "        Dict ={}\n",
    "        for i in range(0,len(nums)):\n",
    "            if(nums[i] not in Dict):\n",
    "                Dict[nums[i]] = 1\n",
    "            else:\n",
    "                Dict[nums[i]] += 1\n",
    "        sortedDict = sorted(Dict.items(), key=lambda x: x[1], reverse=True)\n",
    "        convertedDict = dict(sortedDict)\n",
    "        top = list(convertedDict.items())\n",
    "        return top[0][0]\n",
    "# Create an instance of the Solution class\n",
    "solution = Solution()\n",
    "\n",
    "# Call the majorityElement method on the solution object\n",
    "result = solution.majorityElement([2, 2, 2, 2, 1, 1, 2])\n",
    "print(result)\n"
   ]
  },
  {
   "cell_type": "code",
   "execution_count": 31,
   "metadata": {},
   "outputs": [
    {
     "name": "stdout",
     "output_type": "stream",
     "text": [
      "1\n"
     ]
    }
   ],
   "source": [
    "#Contains Duplicate\n",
    "from typing import List\n",
    "class Solution:\n",
    "    def containsDuplicate(self, nums: List[int]) -> bool:\n",
    "        Dict = {}\n",
    "        for i in range(0,len(nums)):\n",
    "            if(nums[i] not in Dict):\n",
    "                Dict[nums[i]] = 1\n",
    "            else:\n",
    "                return 1\n",
    "        return 0\n",
    "\n",
    "\n",
    "# Create an instance of the Solution class\n",
    "solution = Solution()\n",
    "\n",
    "# Call the majorityElement method on the solution object\n",
    "result = solution.containsDuplicate([1,1,1,3,3,4,3,2,4,2])\n",
    "print(result)\n"
   ]
  },
  {
   "cell_type": "code",
   "execution_count": 22,
   "metadata": {},
   "outputs": [
    {
     "name": "stdout",
     "output_type": "stream",
     "text": [
      "49\n"
     ]
    }
   ],
   "source": [
    "#Container With Most Water\n",
    "from typing import List\n",
    "class Solution:\n",
    "    def maxArea(self, height: List[int]) -> int:\n",
    "        areaStore = 0\n",
    "        i = 0\n",
    "        j = len(height)-1\n",
    "        while (i<j):\n",
    "            h = min(height[i],height[j])\n",
    "            w = j-i\n",
    "            area = h * w\n",
    "            areaStore = max(areaStore,area)\n",
    "            if(height[i]<=height[j]):\n",
    "                i = i + 1\n",
    "            else:\n",
    "                j = j - 1\n",
    "        return areaStore\n",
    "    \n",
    "\n",
    "# Create an instance of the Solution class\n",
    "solution = Solution()\n",
    "\n",
    "# Call the maxArea method on the solution object\n",
    "result = solution.maxArea([1, 8, 6, 2, 5, 4, 8, 3, 7])\n",
    "print(result)\n"
   ]
  },
  {
   "cell_type": "code",
   "execution_count": 58,
   "metadata": {},
   "outputs": [
    {
     "name": "stdout",
     "output_type": "stream",
     "text": [
      "[0, 1, 2, 3, 4, 5, 6, 7, 8, 9]\n",
      "8\n"
     ]
    }
   ],
   "source": [
    "#Missing Number\n",
    "from typing import List\n",
    "class Solution:\n",
    "    def missingNumber(self, nums: List[int]) -> int:\n",
    "       nums = sorted(nums)\n",
    "       max = len(nums)\n",
    "       temp = []\n",
    "       arr = []\n",
    "       for i in range(0, max+1):\n",
    "           temp.append(i)\n",
    "       print(temp)\n",
    "       for element in temp:\n",
    "           if element not in nums:\n",
    "               arr.append(element)\n",
    "       return arr[0]\n",
    "       \n",
    "        \n",
    "# Create an instance of the Solution class\n",
    "solution = Solution()\n",
    "\n",
    "# Call the missingNumber method on the solution object\n",
    "result = solution.missingNumber([9,6,4,2,3,5,7,0,1])\n",
    "print(result)\n"
   ]
  },
  {
   "cell_type": "code",
   "execution_count": 33,
   "metadata": {},
   "outputs": [
    {
     "name": "stdout",
     "output_type": "stream",
     "text": [
      "0\n"
     ]
    }
   ],
   "source": [
    "#Buddy Strings\n",
    "class Solution:\n",
    "    def buddyStrings(self, s: str, goal: str) -> bool:\n",
    "        swap = ''\n",
    "        Dict = {}\n",
    "        Comp = {}\n",
    "        for i in range(len(s)-1,-1,-1):\n",
    "            swap = swap + s[i]\n",
    "        for i in range(0,len(s)):\n",
    "            if(s[i] not in Dict):\n",
    "                Dict[s[i]] = 1\n",
    "            else:\n",
    "                Dict[s[i]] += 1\n",
    "            if(goal[i] not in Comp):\n",
    "                Comp[goal[i]] = 1\n",
    "            else:\n",
    "                Comp[goal[i]] += 1\n",
    "        if(swap == goal):\n",
    "            return 1\n",
    "        elif(swap!=goal):\n",
    "            return 0\n",
    "        else:\n",
    "            return 1 if Dict == Comp else 0\n",
    "\n",
    "# Create an instance of the Solution class\n",
    "solution = Solution()\n",
    "\n",
    "# Call the missingNumber method on the solution object\n",
    "result = solution.buddyStrings(\"ab\", \"ab\")\n",
    "print(result)"
   ]
  },
  {
   "cell_type": "code",
   "execution_count": 38,
   "metadata": {},
   "outputs": [
    {
     "name": "stdout",
     "output_type": "stream",
     "text": [
      "0\n"
     ]
    }
   ],
   "source": [
    "#Jewels and Stones\n",
    "class Solution:\n",
    "    def numJewelsInStones(self, jewels: str, stones: str) -> int:\n",
    "        total = 0\n",
    "        Stones = {}\n",
    "        for i in range(0,len(stones)):\n",
    "            if(stones[i] not in Stones):\n",
    "                Stones[stones[i]]=1\n",
    "            else:\n",
    "                Stones[stones[i]]+=1\n",
    "        for i in range(0,len(jewels)):\n",
    "            if jewels[i] in Stones:\n",
    "                total += Stones[jewels[i]]\n",
    "\n",
    "        return total\n",
    "\n",
    "\n",
    "solution = Solution()\n",
    "\n",
    "# Call the missingNumber method on the solution object\n",
    "result = solution.numJewelsInStones(\"z\", \"ZZ\")\n",
    "print(result)\n"
   ]
  },
  {
   "cell_type": "code",
   "execution_count": 64,
   "metadata": {},
   "outputs": [
    {
     "name": "stdout",
     "output_type": "stream",
     "text": [
      "{'b': 1, 'g': 1}\n",
      "{'e': 2, 'f': 7, 'j': 5, 'b': 7, 'd': 7, 'g': 7, 'h': 5, 'a': 6, 'i': 4, 'c': 2}\n",
      "None\n"
     ]
    }
   ],
   "source": [
    "#Ransom note\n",
    "class Solution:\n",
    "    def canConstruct(self, ransomNote: str, magazine: str) -> bool:\n",
    "        Dict1 ={}\n",
    "        Dict2 = {}\n",
    "        for i in range(0,len(ransomNote)):\n",
    "            if(ransomNote[i] not in Dict1):\n",
    "                Dict1[ransomNote[i]] = 1\n",
    "            else:\n",
    "                Dict1[ransomNote[i]] += 1\n",
    "        for i in range(0,len(magazine)):\n",
    "            if(magazine[i] not in Dict2):\n",
    "                Dict2[magazine[i]] = 1\n",
    "            else:\n",
    "                Dict2[magazine[i]] += 1\n",
    "        print(Dict1)\n",
    "        print(Dict2)\n",
    "        if(Dict1.items() <= Dict2.items()):\n",
    "            if(Dict1.keys() <= Dict2.keys()):\n",
    "                return 1\n",
    "            else:\n",
    "                return 0\n",
    "solution = Solution()\n",
    "\n",
    "# Call the missingNumber method on the solution object\n",
    "result = solution.canConstruct(\"bg\", \"efjbdfbdgfjhhaiigfhbaejahgfbbgbjagbddfgdiaigdadhcfcj\")\n",
    "print(result)"
   ]
  },
  {
   "cell_type": "code",
   "execution_count": 13,
   "metadata": {},
   "outputs": [
    {
     "name": "stdout",
     "output_type": "stream",
     "text": [
      "4\n"
     ]
    }
   ],
   "source": [
    "#Number of Good Pairs\n",
    "from typing import List\n",
    "class Solution:\n",
    "    def numIdenticalPairs(self, nums: List[int]) -> int:\n",
    "        count = 0\n",
    "        for i in range(0,len(nums)):\n",
    "            for j in range(i,len(nums)):\n",
    "                if(nums[i]==nums[j] and i<j):\n",
    "                    count+=1\n",
    "        return count\n",
    "\n",
    "solution = Solution()\n",
    "\n",
    "# Call the missingNumber method on the solution object\n",
    "result = solution.numIdenticalPairs([1, 2, 3, 1, 1, 3])\n",
    "print(result)\n"
   ]
  },
  {
   "cell_type": "code",
   "execution_count": 21,
   "metadata": {},
   "outputs": [
    {
     "name": "stdout",
     "output_type": "stream",
     "text": [
      "10\n"
     ]
    }
   ],
   "source": [
    "#Richest Customer Wealth\n",
    "from typing import List\n",
    "class Solution:\n",
    "    def maximumWealth(self, accounts: List[List[int]]) -> int:\n",
    "        maxAcc = 0\n",
    "        for i in range(0,len(accounts)):\n",
    "            maxAcc = max(sum(accounts[i]),maxAcc)\n",
    "        return maxAcc\n",
    "\n",
    "\n",
    "solution = Solution()\n",
    "\n",
    "# Call the missingNumber method on the solution object\n",
    "result = solution.maximumWealth([[1,5],[7,3],[3,5]])\n",
    "print(result)\n"
   ]
  },
  {
   "cell_type": "code",
   "execution_count": 41,
   "metadata": {},
   "outputs": [
    {
     "name": "stdout",
     "output_type": "stream",
     "text": [
      "[3, 4, 6, 16, 17]\n"
     ]
    }
   ],
   "source": [
    "#Running Sum of 1d Array\n",
    "class Solution:\n",
    "    def runningSum(self, nums: List[int]) -> List[int]:\n",
    "        copy = [0]*len(nums)\n",
    "        summy = sum(nums)\n",
    "        copy[len(nums)-1] = summy\n",
    "        for i in range(len(nums)-2,-1,-1):\n",
    "            copy[i] = copy[i+1] - nums[i+1]\n",
    "        return copy\n",
    "solution = Solution()\n",
    "\n",
    "# Call the missingNumber method on the solution object\n",
    "result = solution.runningSum([3,1,2,10,1])\n",
    "print(result)\n"
   ]
  },
  {
   "cell_type": "code",
   "execution_count": 49,
   "metadata": {},
   "outputs": [
    {
     "name": "stdout",
     "output_type": "stream",
     "text": [
      "6\n"
     ]
    }
   ],
   "source": [
    "#Maximum Number of Words Found in Sentences\n",
    "class Solution:\n",
    "    def mostWordsFound(self, sentences: List[str]) -> int:\n",
    "        maximum = 0\n",
    "        for sentence in sentences:\n",
    "            maximum = max(len(sentence.split()),maximum)\n",
    "        return maximum\n",
    "    \n",
    "\n",
    "solution = Solution()\n",
    "\n",
    "# Call the missingNumber method on the solution object\n",
    "result = solution.mostWordsFound(\n",
    "    [\"alice and bob love leetcode\", \"i think so too\", \"this is great thanks very much\"])\n",
    "print(result)\n"
   ]
  },
  {
   "cell_type": "code",
   "execution_count": 2,
   "metadata": {},
   "outputs": [
    {
     "name": "stdout",
     "output_type": "stream",
     "text": [
      "[0, 0, 0, 0, 0]\n"
     ]
    }
   ],
   "source": [
    "#TODO How Many Numbers Are Smaller Than the Current Number\n",
    "from typing import List\n",
    "class Solution:\n",
    "    def smallerNumbersThanCurrent(self, nums: List[int]) -> List[int]:\n",
    "        ans = [0]*len(nums)\n",
    "        return ans\n",
    "\n",
    "\n",
    "solution = Solution()\n",
    "result = solution.smallerNumbersThanCurrent([8,1,2,2,3])\n",
    "print(result)\n"
   ]
  },
  {
   "cell_type": "code",
   "execution_count": 17,
   "metadata": {},
   "outputs": [
    {
     "name": "stdout",
     "output_type": "stream",
     "text": [
      "{}\n",
      "{'a': 1}\n",
      "0\n"
     ]
    }
   ],
   "source": [
    "#Valid Anagram\n",
    "class Solution:\n",
    "    def isAnagram(self, s: str, t: str) -> bool:\n",
    "        ana = {}\n",
    "        naa = {}\n",
    "        for i in range(len(s)):\n",
    "            if(s[i] not in ana):\n",
    "                ana[s[i]] = 1\n",
    "            else:\n",
    "                ana[s[i]] += 1\n",
    "        for i in range(len(t)):\n",
    "            if(t[i] not in naa):\n",
    "                naa[t[i]] = 1\n",
    "            else:\n",
    "                naa[t[i]] += 1\n",
    "        print(naa)\n",
    "        print(ana)\n",
    "        return 1 if(naa == ana) else 0\n",
    "\n",
    "\n",
    "solution = Solution()\n",
    "result = solution.isAnagram(\"a\", \"\")\n",
    "print(result)\n"
   ]
  },
  {
   "cell_type": "code",
   "execution_count": 26,
   "metadata": {},
   "outputs": [
    {
     "name": "stdout",
     "output_type": "stream",
     "text": [
      "[4, 5, 0, 1, 2, 3]\n"
     ]
    }
   ],
   "source": [
    "#Build Array from Permutation\n",
    "from typing import List\n",
    "class Solution:\n",
    "    def buildArray(self, nums: List[int]) -> List[int]:\n",
    "        newArr = [0]*len(nums)\n",
    "        for i in range(0,len(nums)):\n",
    "            newArr[i] = nums[nums[i]]\n",
    "        return newArr\n",
    "solution = Solution()\n",
    "result = solution.buildArray([5,0,1,2,3,4])\n",
    "print(result)\n"
   ]
  }
 ],
 "metadata": {
  "kernelspec": {
   "display_name": "Python 3",
   "language": "python",
   "name": "python3"
  },
  "language_info": {
   "codemirror_mode": {
    "name": "ipython",
    "version": 3
   },
   "file_extension": ".py",
   "mimetype": "text/x-python",
   "name": "python",
   "nbconvert_exporter": "python",
   "pygments_lexer": "ipython3",
   "version": "3.9.13"
  },
  "orig_nbformat": 4
 },
 "nbformat": 4,
 "nbformat_minor": 2
}
