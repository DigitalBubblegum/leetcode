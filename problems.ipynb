{
 "cells": [
  {
   "cell_type": "code",
   "execution_count": 17,
   "metadata": {},
   "outputs": [
    {
     "name": "stdout",
     "output_type": "stream",
     "text": [
      "None\n"
     ]
    }
   ],
   "source": [
    "#TWO SUM\n",
    "from typing import List\n",
    "\n",
    "class Solution:\n",
    "    def twoSum(self, nums: List[int], target: int) -> List[int]:\n",
    "        Dict = {}\n",
    "        for i in range(0,len(nums)):\n",
    "            numToFind = target - nums[i]\n",
    "            if(nums[i] not in Dict):\n",
    "                Dict[numToFind] = i\n",
    "            else:\n",
    "                return [Dict[nums[i]],i]\n",
    "        return None\n",
    "\n",
    "# Create an instance of the Solution class\n",
    "solution = Solution()\n",
    "\n",
    "# Call the twoSum method on the solution object\n",
    "result = solution.twoSum([], 7)\n",
    "print(result)\n"
   ]
  },
  {
   "cell_type": "code",
   "execution_count": 26,
   "metadata": {},
   "outputs": [
    {
     "name": "stdout",
     "output_type": "stream",
     "text": [
      "2\n"
     ]
    }
   ],
   "source": [
    "#Majority Element\n",
    "from typing import List\n",
    "class Solution:\n",
    "    def majorityElement(self, nums: List[int]) -> int:\n",
    "        Dict ={}\n",
    "        for i in range(0,len(nums)):\n",
    "            if(nums[i] not in Dict):\n",
    "                Dict[nums[i]] = 1\n",
    "            else:\n",
    "                Dict[nums[i]] += 1\n",
    "        sortedDict = sorted(Dict.items(), key=lambda x: x[1], reverse=True)\n",
    "        convertedDict = dict(sortedDict)\n",
    "        top = list(convertedDict.items())\n",
    "        return top[0][0]\n",
    "# Create an instance of the Solution class\n",
    "solution = Solution()\n",
    "\n",
    "# Call the majorityElement method on the solution object\n",
    "result = solution.majorityElement([2, 2, 2, 2, 1, 1, 2])\n",
    "print(result)\n"
   ]
  },
  {
   "cell_type": "code",
   "execution_count": 31,
   "metadata": {},
   "outputs": [
    {
     "name": "stdout",
     "output_type": "stream",
     "text": [
      "1\n"
     ]
    }
   ],
   "source": [
    "#Contains Duplicate\n",
    "from typing import List\n",
    "class Solution:\n",
    "    def containsDuplicate(self, nums: List[int]) -> bool:\n",
    "        Dict = {}\n",
    "        for i in range(0,len(nums)):\n",
    "            if(nums[i] not in Dict):\n",
    "                Dict[nums[i]] = 1\n",
    "            else:\n",
    "                return 1\n",
    "        return 0\n",
    "\n",
    "\n",
    "# Create an instance of the Solution class\n",
    "solution = Solution()\n",
    "\n",
    "# Call the majorityElement method on the solution object\n",
    "result = solution.containsDuplicate([1,1,1,3,3,4,3,2,4,2])\n",
    "print(result)\n"
   ]
  }
 ],
 "metadata": {
  "kernelspec": {
   "display_name": "Python 3",
   "language": "python",
   "name": "python3"
  },
  "language_info": {
   "codemirror_mode": {
    "name": "ipython",
    "version": 3
   },
   "file_extension": ".py",
   "mimetype": "text/x-python",
   "name": "python",
   "nbconvert_exporter": "python",
   "pygments_lexer": "ipython3",
   "version": "3.9.13"
  },
  "orig_nbformat": 4
 },
 "nbformat": 4,
 "nbformat_minor": 2
}
